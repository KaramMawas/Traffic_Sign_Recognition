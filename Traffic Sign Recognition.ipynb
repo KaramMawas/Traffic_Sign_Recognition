{
 "cells": [
  {
   "cell_type": "markdown",
   "metadata": {},
   "source": [
    "# Traffic Sign Recognition"
   ]
  },
  {
   "cell_type": "markdown",
   "metadata": {},
   "source": [
    "This project is using the data from the [The German Traffic Sign Recognition Benchmark](http://benchmark.ini.rub.de/?section=gtsrb&subsection=dataset)\n",
    "\n",
    "    @inproceedings{Stallkamp-IJCNN-2011,\n",
    "    author = {Johannes Stallkamp and Marc Schlipsing and Jan Salmen and Christian Igel},\n",
    "    booktitle = {IEEE International Joint Conference on Neural Networks},\n",
    "    title = {The {G}erman {T}raffic {S}ign {R}ecognition {B}enchmark: A multi-class classification competition},\n",
    "    year = {2011},\n",
    "    pages = {1453--1460}}"
   ]
  },
  {
   "cell_type": "code",
   "execution_count": 59,
   "metadata": {},
   "outputs": [],
   "source": [
    "from readTrafficSigns import *\n",
    "import cv2\n",
    "import os\n",
    "from random import shuffle\n",
    "from tqdm import tqdm\n",
    "import numpy as np\n",
    "import matplotlib.pyplot as plt\n",
    "import sklearn\n",
    "from sklearn.cross_validation import train_test_split\n",
    "import pandas as pd\n",
    "\n",
    "import tensorflow as tf\n",
    "import pickle"
   ]
  },
  {
   "cell_type": "code",
   "execution_count": 2,
   "metadata": {},
   "outputs": [],
   "source": [
    "trainImages, trainLabels = readTrafficSigns('./GTSRB/Training')"
   ]
  },
  {
   "cell_type": "code",
   "execution_count": 5,
   "metadata": {
    "scrolled": true
   },
   "outputs": [
    {
     "name": "stdout",
     "output_type": "stream",
     "text": [
      "trainLabels: 39209 trainImages: 39209\n"
     ]
    }
   ],
   "source": [
    "print ('trainLabels:',len(trainLabels), 'trainImages:',len(trainImages))"
   ]
  },
  {
   "cell_type": "markdown",
   "metadata": {},
   "source": [
    "### Convert labels to one hot array"
   ]
  },
  {
   "cell_type": "code",
   "execution_count": 50,
   "metadata": {},
   "outputs": [],
   "source": [
    "targets = pd.Series(np.array(trainLabels))\n",
    "one_hot = pd.get_dummies(targets, sparse = True)\n",
    "one_hot_labels = np.asarray(one_hot)"
   ]
  },
  {
   "cell_type": "code",
   "execution_count": 55,
   "metadata": {},
   "outputs": [
    {
     "name": "stdout",
     "output_type": "stream",
     "text": [
      "(39209, 43)\n"
     ]
    }
   ],
   "source": [
    "print(one_hot_labels.shape)"
   ]
  },
  {
   "cell_type": "code",
   "execution_count": 58,
   "metadata": {},
   "outputs": [
    {
     "data": {
      "text/plain": [
       "array([0, 1, 0, 0, 0, 0, 0, 0, 0, 0, 0, 0, 0, 0, 0, 0, 0, 0, 0, 0, 0, 0,\n",
       "       0, 0, 0, 0, 0, 0, 0, 0, 0, 0, 0, 0, 0, 0, 0, 0, 0, 0, 0, 0, 0],\n",
       "      dtype=uint8)"
      ]
     },
     "execution_count": 58,
     "metadata": {},
     "output_type": "execute_result"
    }
   ],
   "source": [
    "one_hot_labels[1000]"
   ]
  },
  {
   "cell_type": "code",
   "execution_count": 6,
   "metadata": {},
   "outputs": [
    {
     "data": {
      "text/plain": [
       "(31, 32, 3)"
      ]
     },
     "execution_count": 6,
     "metadata": {},
     "output_type": "execute_result"
    }
   ],
   "source": [
    "trainImages[3000].shape"
   ]
  },
  {
   "cell_type": "code",
   "execution_count": 7,
   "metadata": {
    "scrolled": true
   },
   "outputs": [
    {
     "data": {
      "image/png": "[encoded data removed]",
      "text/plain": [
       "<matplotlib.figure.Figure at 0x16846325da0>"
      ]
     },
     "metadata": {},
     "output_type": "display_data"
    }
   ],
   "source": [
    "plt.imshow(trainImages[50])\n",
    "plt.show()"
   ]
  },
  {
   "cell_type": "code",
   "execution_count": 60,
   "metadata": {},
   "outputs": [],
   "source": [
    "IMG_SIZE = 30 # image_size\n",
    "LR= 1e-3 #learning rate\n",
    "MODEL_NAME = 'Traffic_Signs-{}-{}.model'.format(LR,'2conv-basic')"
   ]
  },
  {
   "cell_type": "code",
   "execution_count": 62,
   "metadata": {},
   "outputs": [],
   "source": [
    "def shuffle_resize_data():\n",
    "    x_feature = []\n",
    "    y_feature = []\n",
    "    data = []\n",
    "    i = 0\n",
    "    for img in tqdm(range(len(trainImages))):\n",
    "        label = one_hot_labels[i]\n",
    "        gray = cv2.cvtColor(trainImages[img], cv2.COLOR_BGR2GRAY)\n",
    "        gray_resized = cv2.resize(gray, (IMG_SIZE,IMG_SIZE) ,interpolation = cv2.INTER_CUBIC)\n",
    "        data.append([np.array(gray_resized), np.array(label)])\n",
    "        i +=1\n",
    "    shuffle(data)\n",
    "    np.save('data.npy',data)\n",
    "    x_feature , y_feature = zip(*data) \n",
    "    return x_feature , y_feature"
   ]
  },
  {
   "cell_type": "code",
   "execution_count": 63,
   "metadata": {},
   "outputs": [
    {
     "name": "stderr",
     "output_type": "stream",
     "text": [
      "100%|█████████████████████████████████████████████████████████████████████████| 39209/39209 [00:02<00:00, 14923.50it/s]\n"
     ]
    }
   ],
   "source": [
    "x_feature , y_feature = shuffle_resize_data()"
   ]
  },
  {
   "cell_type": "code",
   "execution_count": 64,
   "metadata": {},
   "outputs": [],
   "source": [
    "#train_data = np.Load('train_data.npy')"
   ]
  },
  {
   "cell_type": "code",
   "execution_count": 65,
   "metadata": {},
   "outputs": [
    {
     "name": "stdout",
     "output_type": "stream",
     "text": [
      "trainLabels: 39209 trainImages: 39209\n"
     ]
    }
   ],
   "source": [
    "print ('trainLabels:',len(y_feature), 'trainImages:',len(x_feature))"
   ]
  },
  {
   "cell_type": "code",
   "execution_count": 66,
   "metadata": {
    "scrolled": true
   },
   "outputs": [
    {
     "data": {
      "text/plain": [
       "(30, 30)"
      ]
     },
     "execution_count": 66,
     "metadata": {},
     "output_type": "execute_result"
    }
   ],
   "source": [
    "x_feature[100].shape"
   ]
  },
  {
   "cell_type": "code",
   "execution_count": 70,
   "metadata": {},
   "outputs": [
    {
     "data": {
      "text/plain": [
       "(43,)"
      ]
     },
     "execution_count": 70,
     "metadata": {},
     "output_type": "execute_result"
    }
   ],
   "source": [
    "y_feature[100].shape"
   ]
  },
  {
   "cell_type": "markdown",
   "metadata": {},
   "source": [
    "### Normalize the data"
   ]
  },
  {
   "cell_type": "markdown",
   "metadata": {},
   "source": [
    "We need to normalize inputs like this: $$x_{norm} = \\frac{x}{255} - 0.5$$"
   ]
  },
  {
   "cell_type": "markdown",
   "metadata": {},
   "source": [
    "The data frames need to be the form of arrays and normolised. Becuase I'm dealing with grayscale here, I needed to add the dimension at the end of the array else it keras would raise an exception"
   ]
  },
  {
   "cell_type": "code",
   "execution_count": 71,
   "metadata": {},
   "outputs": [],
   "source": [
    "# normalize the images\n",
    "#x_train = tf.keras.utils.normalize(x_train)\n",
    "#x_test = tf.keras.utils.normalize(x_test)"
   ]
  },
  {
   "cell_type": "code",
   "execution_count": 72,
   "metadata": {
    "scrolled": true
   },
   "outputs": [
    {
     "name": "stdout",
     "output_type": "stream",
     "text": [
      "(39209, 30, 30)\n",
      "(39209, 30, 30, 1)\n"
     ]
    }
   ],
   "source": [
    "x_train_data = (np.array(x_feature, np.float32) / 255.)\n",
    "print (x_train_data.shape)\n",
    "x_train_data = np.expand_dims(x_train_data, axis = 3)\n",
    "print (x_train_data.shape)"
   ]
  },
  {
   "cell_type": "code",
   "execution_count": 73,
   "metadata": {},
   "outputs": [
    {
     "name": "stdout",
     "output_type": "stream",
     "text": [
      "(39209, 43)\n"
     ]
    }
   ],
   "source": [
    "y_train_data = np.array(y_feature, np.uint8)\n",
    "print (y_train_data.shape)"
   ]
  },
  {
   "cell_type": "code",
   "execution_count": 74,
   "metadata": {
    "scrolled": false
   },
   "outputs": [
    {
     "data": {
      "image/png": "[encoded data removed]",
      "text/plain": [
       "<matplotlib.figure.Figure at 0x16859eced68>"
      ]
     },
     "metadata": {},
     "output_type": "display_data"
    }
   ],
   "source": [
    "plt.imshow(x_feature[100], cmap=plt.cm.binary)\n",
    "plt.show()"
   ]
  },
  {
   "cell_type": "markdown",
   "metadata": {},
   "source": [
    "### Split data to train and test\n",
    "give 10% for test data from the total data"
   ]
  },
  {
   "cell_type": "code",
   "execution_count": 75,
   "metadata": {},
   "outputs": [
    {
     "name": "stdout",
     "output_type": "stream",
     "text": [
      "(35288, 30, 30, 1)\n",
      "(3921, 30, 30, 1)\n",
      "(35288, 43)\n",
      "(3921, 43)\n"
     ]
    }
   ],
   "source": [
    "x_train, x_val, y_train, y_val = train_test_split(x_train_data, y_train_data, test_size=0.1, random_state=2)\n",
    "print (x_train.shape)\n",
    "print (x_val.shape)\n",
    "print (y_train.shape)\n",
    "print (y_val.shape)"
   ]
  },
  {
   "cell_type": "markdown",
   "metadata": {},
   "source": [
    "# Building the Model"
   ]
  },
  {
   "cell_type": "code",
   "execution_count": 76,
   "metadata": {},
   "outputs": [],
   "source": [
    "from keras.models import Sequential  # initial NN\n",
    "from keras.layers import Dense, Dropout # construct each layer\n",
    "from keras.layers import Convolution2D # swipe across the image by 1\n",
    "from keras.layers import MaxPooling2D # swipe across by pool size\n",
    "from keras.layers import Flatten"
   ]
  },
  {
   "cell_type": "markdown",
   "metadata": {},
   "source": [
    "\n",
    "1. Convetional layer (detect features in image matrix)\n",
    "2. Pooling layer (recongise features in different angle and/or size)\n",
    "3. Convetional layer\n",
    "4. Pooling laye\n",
    "5. Flattening layer (flatten layers in array of imput)\n",
    "6. Full connected layer (full connected ANN)\n",
    "7. Output layer\n"
   ]
  },
  {
   "cell_type": "code",
   "execution_count": 77,
   "metadata": {},
   "outputs": [],
   "source": [
    "model = Sequential()\n",
    "\n",
    "model.add(Convolution2D (filters = 64, kernel_size = (4,4),padding = 'Same', \n",
    "                         activation ='relu', input_shape = x_train.shape[1:])) \n",
    "model.add(MaxPooling2D(pool_size=(2,2)))\n",
    "model.add(Convolution2D (filters = 64, kernel_size = (4,4),padding = 'Same', \n",
    "                         activation ='relu')) \n",
    "model.add(MaxPooling2D(pool_size=(2,2)))\n",
    "\n",
    "model.add(Flatten()) \n",
    "# fully connected NN \n",
    "model.add(Dense(units = 43, activation = 'relu')) \n",
    "# output layer\n",
    "model.add(Dense(units = 43, activation = 'softmax'))\n",
    "\n",
    "model.compile(optimizer = 'adam' , loss = \"categorical_crossentropy\", metrics=[\"accuracy\"])\n"
   ]
  },
  {
   "cell_type": "code",
   "execution_count": 78,
   "metadata": {},
   "outputs": [
    {
     "name": "stdout",
     "output_type": "stream",
     "text": [
      "_________________________________________________________________\n",
      "Layer (type)                 Output Shape              Param #   \n",
      "=================================================================\n",
      "conv2d_3 (Conv2D)            (None, 30, 30, 64)        1088      \n",
      "_________________________________________________________________\n",
      "max_pooling2d_3 (MaxPooling2 (None, 15, 15, 64)        0         \n",
      "_________________________________________________________________\n",
      "conv2d_4 (Conv2D)            (None, 15, 15, 64)        65600     \n",
      "_________________________________________________________________\n",
      "max_pooling2d_4 (MaxPooling2 (None, 7, 7, 64)          0         \n",
      "_________________________________________________________________\n",
      "flatten_2 (Flatten)          (None, 3136)              0         \n",
      "_________________________________________________________________\n",
      "dense_3 (Dense)              (None, 43)                134891    \n",
      "_________________________________________________________________\n",
      "dense_4 (Dense)              (None, 43)                1892      \n",
      "=================================================================\n",
      "Total params: 203,471\n",
      "Trainable params: 203,471\n",
      "Non-trainable params: 0\n",
      "_________________________________________________________________\n"
     ]
    }
   ],
   "source": [
    "model.summary()"
   ]
  },
  {
   "cell_type": "markdown",
   "metadata": {},
   "source": [
    "### Fit the model into data"
   ]
  },
  {
   "cell_type": "code",
   "execution_count": 79,
   "metadata": {},
   "outputs": [
    {
     "name": "stdout",
     "output_type": "stream",
     "text": [
      "Train on 35288 samples, validate on 3921 samples\n",
      "Epoch 1/10\n",
      "28s - loss: 1.7893 - acc: 0.5353 - val_loss: 0.5532 - val_acc: 0.8531\n",
      "Epoch 2/10\n",
      "17s - loss: 0.3659 - acc: 0.9070 - val_loss: 0.2427 - val_acc: 0.9324\n",
      "Epoch 3/10\n",
      "17s - loss: 0.1809 - acc: 0.9549 - val_loss: 0.1688 - val_acc: 0.9630\n",
      "Epoch 4/10\n",
      "17s - loss: 0.1111 - acc: 0.9734 - val_loss: 0.1133 - val_acc: 0.9753\n",
      "Epoch 5/10\n",
      "17s - loss: 0.0792 - acc: 0.9808 - val_loss: 0.0990 - val_acc: 0.9765\n",
      "Epoch 6/10\n",
      "17s - loss: 0.0588 - acc: 0.9862 - val_loss: 0.0775 - val_acc: 0.9814\n",
      "Epoch 7/10\n",
      "17s - loss: 0.0473 - acc: 0.9880 - val_loss: 0.0824 - val_acc: 0.9776\n",
      "Epoch 8/10\n",
      "17s - loss: 0.0355 - acc: 0.9916 - val_loss: 0.0736 - val_acc: 0.9847\n",
      "Epoch 9/10\n",
      "17s - loss: 0.0312 - acc: 0.9928 - val_loss: 0.1106 - val_acc: 0.9732\n",
      "Epoch 10/10\n",
      "17s - loss: 0.0281 - acc: 0.9934 - val_loss: 0.0612 - val_acc: 0.9893\n"
     ]
    }
   ],
   "source": [
    "batch_size = 64 \n",
    "nb_epochs = 10\n",
    "history = model.fit(x_train, y_train,\n",
    "                    batch_size=batch_size,\n",
    "                    epochs=nb_epochs,\n",
    "                    verbose=2, \n",
    "                    validation_data=(x_val, y_val),\n",
    "                    initial_epoch=0)"
   ]
  },
  {
   "cell_type": "code",
   "execution_count": 80,
   "metadata": {},
   "outputs": [],
   "source": [
    "#val_loss, val_acc = model.evaluate(x_test,y_test)"
   ]
  },
  {
   "cell_type": "code",
   "execution_count": 82,
   "metadata": {},
   "outputs": [],
   "source": [
    "model.save('10epoch_10val_NoMean_2conv') # model_1 = tf.keras.models.load_model('10epoch_10val_NoMean_2conv')"
   ]
  },
  {
   "cell_type": "code",
   "execution_count": null,
   "metadata": {},
   "outputs": [],
   "source": [
    "#predictions = new_model.predict([x_test])"
   ]
  }
 ],
 "metadata": {
  "kernelspec": {
   "display_name": "Python 3",
   "language": "python",
   "name": "python3"
  },
  "language_info": {
   "codemirror_mode": {
    "name": "ipython",
    "version": 3
   },
   "file_extension": ".py",
   "mimetype": "text/x-python",
   "name": "python",
   "nbconvert_exporter": "python",
   "pygments_lexer": "ipython3",
   "version": "3.6.4"
  }
 },
 "nbformat": 4,
 "nbformat_minor": 2
}
