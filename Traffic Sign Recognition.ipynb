{
 "cells": [
  {
   "cell_type": "markdown",
   "metadata": {},
   "source": [
    "# Traffic Sign Recognition"
   ]
  },
  {
   "cell_type": "markdown",
   "metadata": {},
   "source": [
    "This project is using the data from the [The German Traffic Sign Recognition Benchmark](http://benchmark.ini.rub.de/?section=gtsrb&subsection=dataset)\n",
    "\n",
    "    @inproceedings{Stallkamp-IJCNN-2011,\n",
    "    author = {Johannes Stallkamp and Marc Schlipsing and Jan Salmen and Christian Igel},\n",
    "    booktitle = {IEEE International Joint Conference on Neural Networks},\n",
    "    title = {The {G}erman {T}raffic {S}ign {R}ecognition {B}enchmark: A multi-class classification competition},\n",
    "    year = {2011},\n",
    "    pages = {1453--1460}}"
   ]
  },
  {
   "cell_type": "code",
   "execution_count": 1,
   "metadata": {},
   "outputs": [],
   "source": [
    "import os\n",
    "import matplotlib.pyplot as plt\n",
    "import cv2\n",
    "from random import shuffle\n",
    "from tqdm import tqdm\n",
    "\n",
    "import numpy as np\n",
    "import tensorflow as tf\n",
    "\n",
    "from readTrafficSigns import *\n",
    "from utils import *"
   ]
  },
  {
   "cell_type": "code",
   "execution_count": 2,
   "metadata": {},
   "outputs": [],
   "source": [
    "TRAIN_DATA_PATH = './GTSRB/Training'\n",
    "TEST_DATA_PATH = './GTSRB/Test'\n",
    "CLASSES_NUM = 43"
   ]
  },
  {
   "cell_type": "code",
   "execution_count": 3,
   "metadata": {},
   "outputs": [],
   "source": [
    "images, labels = readTrafficSigns(TRAIN_DATA_PATH)"
   ]
  },
  {
   "cell_type": "code",
   "execution_count": 4,
   "metadata": {
    "scrolled": true
   },
   "outputs": [
    {
     "name": "stdout",
     "output_type": "stream",
     "text": [
      "Labels: 39209 - Images: 39209 - Image shape: (35, 36, 3)\n"
     ]
    }
   ],
   "source": [
    "print ('Labels:',len(labels), '- Images:',len(images), '- Image shape:', images[100].shape)"
   ]
  },
  {
   "cell_type": "code",
   "execution_count": 5,
   "metadata": {},
   "outputs": [
    {
     "name": "stdout",
     "output_type": "stream",
     "text": [
      "y = 1\n"
     ]
    },
    {
     "data": {
      "image/png": "[encoded data removed]",
      "text/plain": [
       "<Figure size 432x288 with 1 Axes>"
      ]
     },
     "metadata": {
      "needs_background": "light"
     },
     "output_type": "display_data"
    }
   ],
   "source": [
    "# Example of an image\n",
    "index = 2000\n",
    "plt.imshow(images[index])\n",
    "print (\"y = \" + str(labels[index]))"
   ]
  },
  {
   "cell_type": "markdown",
   "metadata": {},
   "source": [
    "### Convert labels to one hot array"
   ]
  },
  {
   "cell_type": "code",
   "execution_count": 6,
   "metadata": {},
   "outputs": [],
   "source": [
    "labels = np.array(labels).astype(np.int) # String to Int Array\n",
    "\n",
    "one_hot_labels = convert_to_one_hot(labels, CLASSES_NUM)\n",
    "#targets = pd.Series(np.array(labels))\n",
    "#one_hot = pd.get_dummies(targets, sparse = True)\n",
    "#one_hot_labels = np.asarray(one_hot)"
   ]
  },
  {
   "cell_type": "code",
   "execution_count": 7,
   "metadata": {},
   "outputs": [
    {
     "name": "stdout",
     "output_type": "stream",
     "text": [
      "(39209, 43)\n"
     ]
    }
   ],
   "source": [
    "print(one_hot_labels.shape)"
   ]
  },
  {
   "cell_type": "code",
   "execution_count": 8,
   "metadata": {},
   "outputs": [],
   "source": [
    "IMG_SIZE = 30 # image_size\n",
    "LR= 1e-3 #learning rate\n",
    "MODEL_NAME = 'Traffic_Signs-{}-{}.model'.format(LR,'2conv-basic')"
   ]
  },
  {
   "cell_type": "code",
   "execution_count": 9,
   "metadata": {},
   "outputs": [],
   "source": [
    "def shuffle_resize_data():\n",
    "    x_feature = []\n",
    "    y_feature = []\n",
    "    data = []\n",
    "    #i = 0\n",
    "    for index in tqdm(range(len(images))):\n",
    "        label = one_hot_labels[index]\n",
    "        gray_image = cv2.cvtColor(images[index], cv2.COLOR_BGR2GRAY)\n",
    "        gray_resized_image = cv2.resize(gray_image, (IMG_SIZE,IMG_SIZE) ,interpolation = cv2.INTER_CUBIC)\n",
    "        data.append([np.array(gray_resized_image), np.array(label)])\n",
    "        #i +=1\n",
    "    shuffle(data)\n",
    "    np.save('data.npy',data)\n",
    "    x_feature , y_feature = zip(*data) \n",
    "    return x_feature , y_feature"
   ]
  },
  {
   "cell_type": "code",
   "execution_count": 10,
   "metadata": {},
   "outputs": [
    {
     "name": "stderr",
     "output_type": "stream",
     "text": [
      "100%|██████████| 39209/39209 [00:01<00:00, 38258.70it/s]\n"
     ]
    }
   ],
   "source": [
    "x_feature , y_feature = shuffle_resize_data()"
   ]
  },
  {
   "cell_type": "code",
   "execution_count": 11,
   "metadata": {},
   "outputs": [
    {
     "name": "stdout",
     "output_type": "stream",
     "text": [
      "Y=  26\n"
     ]
    },
    {
     "data": {
      "image/png": "[encoded data removed]",
      "text/plain": [
       "<Figure size 432x288 with 1 Axes>"
      ]
     },
     "metadata": {
      "needs_background": "light"
     },
     "output_type": "display_data"
    }
   ],
   "source": [
    "#Example of edited image\n",
    "print(\"Y= \", np.argmax(y_feature[100]))\n",
    "plt.imshow(x_feature[100], cmap=plt.cm.binary)\n",
    "plt.show()"
   ]
  },
  {
   "cell_type": "code",
   "execution_count": 12,
   "metadata": {},
   "outputs": [],
   "source": [
    "#train_data = np.Load('train_data.npy')"
   ]
  },
  {
   "cell_type": "markdown",
   "metadata": {},
   "source": [
    "### Normalize the data"
   ]
  },
  {
   "cell_type": "markdown",
   "metadata": {},
   "source": [
    "We need to normalize inputs like this: $$x_{norm} = \\frac{x}{255} - 0.5$$"
   ]
  },
  {
   "cell_type": "markdown",
   "metadata": {},
   "source": [
    "The data frames need to be the form of arrays and normolised. Becuase I'm dealing with grayscale here, I needed to add the dimension at the end of the array else it keras would raise an exception"
   ]
  },
  {
   "cell_type": "code",
   "execution_count": 13,
   "metadata": {},
   "outputs": [],
   "source": [
    "# normalize the images\n",
    "#x_train = tf.keras.utils.normalize(x_train)\n",
    "#x_test = tf.keras.utils.normalize(x_test)"
   ]
  },
  {
   "cell_type": "code",
   "execution_count": 14,
   "metadata": {
    "scrolled": true
   },
   "outputs": [
    {
     "name": "stdout",
     "output_type": "stream",
     "text": [
      "(39209, 30, 30)\n",
      "(39209, 30, 30, 1)\n"
     ]
    }
   ],
   "source": [
    "X_data = (np.array(x_feature, np.float32) / 255.)\n",
    "print (X_data.shape)\n",
    "X_data = np.expand_dims(X_data, axis = 3)\n",
    "print (X_data.shape)"
   ]
  },
  {
   "cell_type": "code",
   "execution_count": 15,
   "metadata": {},
   "outputs": [
    {
     "name": "stdout",
     "output_type": "stream",
     "text": [
      "(39209, 43)\n"
     ]
    }
   ],
   "source": [
    "Y_data = np.array(y_feature, np.uint8)\n",
    "print (Y_data.shape)"
   ]
  },
  {
   "cell_type": "markdown",
   "metadata": {},
   "source": [
    "### Split data to train and test\n",
    "give 10% for test data from the total data"
   ]
  },
  {
   "cell_type": "code",
   "execution_count": 16,
   "metadata": {},
   "outputs": [
    {
     "name": "stdout",
     "output_type": "stream",
     "text": [
      "number of training examples = 35289\n",
      "number of test examples = 3920\n",
      "X_train shape: (35289, 30, 30, 1)\n",
      "X_test shape: (3920, 30, 30, 1)\n",
      "Y_train shape: (35289, 43)\n",
      "Y_test shape: (3920, 43)\n"
     ]
    }
   ],
   "source": [
    "X_train, X_test, Y_train, Y_test = train_test_split(X_data, Y_data, test_size=0.1)\n",
    "print (\"number of training examples = \" + str(X_train.shape[0]))\n",
    "print (\"number of test examples = \" + str(X_test.shape[0]))\n",
    "print (\"X_train shape: \" + str(X_train.shape))\n",
    "print (\"X_test shape: \" + str(X_test.shape))\n",
    "print (\"Y_train shape: \" + str(Y_train.shape))\n",
    "print (\"Y_test shape: \" + str(Y_test.shape))"
   ]
  },
  {
   "cell_type": "markdown",
   "metadata": {},
   "source": [
    "# Building the Model"
   ]
  },
  {
   "cell_type": "code",
   "execution_count": 17,
   "metadata": {},
   "outputs": [
    {
     "name": "stderr",
     "output_type": "stream",
     "text": [
      "Using TensorFlow backend.\n"
     ]
    }
   ],
   "source": [
    "from keras.models import Sequential  # initial NN\n",
    "from keras.layers import Dense, Dropout # construct each layer\n",
    "from keras.layers import Convolution2D # swipe across the image by 1\n",
    "from keras.layers import MaxPooling2D # swipe across by pool size\n",
    "from keras.layers import Flatten"
   ]
  },
  {
   "cell_type": "markdown",
   "metadata": {},
   "source": [
    "\n",
    "1. Convetional layer (detect features in image matrix)\n",
    "2. Pooling layer (recongise features in different angle and/or size)\n",
    "3. Convetional layer\n",
    "4. Pooling laye\n",
    "5. Flattening layer (flatten layers in array of imput)\n",
    "6. Fully connected layer (fully connected ANN)\n",
    "7. Output layer\n"
   ]
  },
  {
   "cell_type": "code",
   "execution_count": 21,
   "metadata": {},
   "outputs": [],
   "source": [
    "def model(input_shape):\n",
    "    model = Sequential()\n",
    "\n",
    "    model.add(Convolution2D(filters = 64, kernel_size = (4,4),padding = 'Same', \n",
    "                             activation ='relu', input_shape = input_shape)) \n",
    "\n",
    "    model.add(MaxPooling2D(pool_size=(2,2)))\n",
    "\n",
    "    model.add(Convolution2D(filters = 64, kernel_size = (4,4),padding = 'Same', \n",
    "                             activation ='relu')) \n",
    "\n",
    "    model.add(MaxPooling2D(pool_size=(2,2)))\n",
    "\n",
    "    model.add(Flatten()) \n",
    "    # fully connected NN \n",
    "    model.add(Dense(units = 43, activation = 'relu')) \n",
    "    # output layer\n",
    "    model.add(Dense(units = 43, activation = 'softmax'))\n",
    "\n",
    "    model.compile(optimizer = 'adam' , loss = \"categorical_crossentropy\", metrics=[\"accuracy\"])\n",
    "\n",
    "    return model"
   ]
  },
  {
   "cell_type": "code",
   "execution_count": 22,
   "metadata": {},
   "outputs": [
    {
     "name": "stdout",
     "output_type": "stream",
     "text": [
      "_________________________________________________________________\n",
      "Layer (type)                 Output Shape              Param #   \n",
      "=================================================================\n",
      "conv2d_1 (Conv2D)            (None, 30, 30, 64)        1088      \n",
      "_________________________________________________________________\n",
      "max_pooling2d_1 (MaxPooling2 (None, 15, 15, 64)        0         \n",
      "_________________________________________________________________\n",
      "conv2d_2 (Conv2D)            (None, 15, 15, 64)        65600     \n",
      "_________________________________________________________________\n",
      "max_pooling2d_2 (MaxPooling2 (None, 7, 7, 64)          0         \n",
      "_________________________________________________________________\n",
      "flatten_1 (Flatten)          (None, 3136)              0         \n",
      "_________________________________________________________________\n",
      "dense_1 (Dense)              (None, 43)                134891    \n",
      "_________________________________________________________________\n",
      "dense_2 (Dense)              (None, 43)                1892      \n",
      "=================================================================\n",
      "Total params: 203,471\n",
      "Trainable params: 203,471\n",
      "Non-trainable params: 0\n",
      "_________________________________________________________________\n"
     ]
    }
   ],
   "source": [
    "tsr_model = model(X_train.shape[1:])\n",
    "tsr_model.summary()"
   ]
  },
  {
   "cell_type": "markdown",
   "metadata": {},
   "source": [
    "### Fit the model into data"
   ]
  },
  {
   "cell_type": "code",
   "execution_count": 23,
   "metadata": {},
   "outputs": [
    {
     "name": "stdout",
     "output_type": "stream",
     "text": [
      "Train on 35289 samples, validate on 3920 samples\n",
      "Epoch 1/10\n",
      " - 140s - loss: 1.7314 - acc: 0.5465 - val_loss: 0.6394 - val_acc: 0.8202\n",
      "Epoch 2/10\n",
      " - 140s - loss: 0.3754 - acc: 0.9006 - val_loss: 0.2443 - val_acc: 0.9395\n",
      "Epoch 3/10\n",
      " - 136s - loss: 0.1814 - acc: 0.9544 - val_loss: 0.1848 - val_acc: 0.9528\n",
      "Epoch 4/10\n",
      " - 132s - loss: 0.1139 - acc: 0.9718 - val_loss: 0.1770 - val_acc: 0.9480\n",
      "Epoch 5/10\n",
      " - 131s - loss: 0.0781 - acc: 0.9806 - val_loss: 0.1037 - val_acc: 0.9747\n",
      "Epoch 6/10\n",
      " - 132s - loss: 0.0602 - acc: 0.9855 - val_loss: 0.0869 - val_acc: 0.9806\n",
      "Epoch 7/10\n",
      " - 130s - loss: 0.0479 - acc: 0.9878 - val_loss: 0.0882 - val_acc: 0.9806\n",
      "Epoch 8/10\n",
      " - 129s - loss: 0.0364 - acc: 0.9912 - val_loss: 0.0724 - val_acc: 0.9849\n",
      "Epoch 9/10\n",
      " - 141s - loss: 0.0259 - acc: 0.9939 - val_loss: 0.0686 - val_acc: 0.9849\n",
      "Epoch 10/10\n",
      " - 174s - loss: 0.0270 - acc: 0.9932 - val_loss: 0.1045 - val_acc: 0.9730\n"
     ]
    }
   ],
   "source": [
    "batch_size = 64 \n",
    "nb_epochs = 10\n",
    "history = tsr_model.fit(X_train, Y_train,\n",
    "                        batch_size=batch_size,\n",
    "                        epochs=nb_epochs,\n",
    "                        verbose=2, \n",
    "                        validation_data=(X_test, Y_test),\n",
    "                        initial_epoch=0)"
   ]
  },
  {
   "cell_type": "code",
   "execution_count": 80,
   "metadata": {},
   "outputs": [],
   "source": [
    "#val_loss, val_acc = model.evaluate(x_test,y_test)"
   ]
  },
  {
   "cell_type": "code",
   "execution_count": 27,
   "metadata": {},
   "outputs": [],
   "source": [
    "tsr_model.save('10epoch_10val_NoMean_2conv.model')"
   ]
  },
  {
   "cell_type": "markdown",
   "metadata": {},
   "source": [
    "# Make some predictions"
   ]
  },
  {
   "cell_type": "markdown",
   "metadata": {},
   "source": [
    "#### Load model if you have no one yet"
   ]
  },
  {
   "cell_type": "code",
   "execution_count": 9,
   "metadata": {},
   "outputs": [],
   "source": [
    "tsr_model = tf.keras.models.load_model('10epoch_10val_NoMean_2conv.model')"
   ]
  },
  {
   "cell_type": "code",
   "execution_count": 67,
   "metadata": {},
   "outputs": [
    {
     "name": "stdout",
     "output_type": "stream",
     "text": [
      "(65, 70)\n"
     ]
    }
   ],
   "source": [
    "# read one image for each class to display the result\n",
    "class_image, class_label = readSingleTrafficSigns(TRAIN_DATA_PATH)\n",
    "class_label = np.array(class_label).astype(np.int)\n",
    "\n",
    "# read images for test\n",
    "test_images_orig = readTestImages(TEST_DATA_PATH)\n",
    "print(test_images_orig[0].shape)"
   ]
  },
  {
   "cell_type": "code",
   "execution_count": 68,
   "metadata": {},
   "outputs": [
    {
     "name": "stderr",
     "output_type": "stream",
     "text": [
      "100%|██████████| 12631/12631 [00:00<00:00, 69121.42it/s]\n"
     ]
    },
    {
     "name": "stdout",
     "output_type": "stream",
     "text": [
      "Test images shape:  (12630, 30, 30, 1)\n"
     ]
    }
   ],
   "source": [
    "# Resize images\n",
    "test_images = []\n",
    "\n",
    "for index in tqdm(range(len(test_images_orig))):\n",
    "    try:\n",
    "        resized_image = cv2.resize(test_images_orig[index], (IMG_SIZE,IMG_SIZE) ,interpolation = cv2.INTER_CUBIC)\n",
    "        test_images.append(resized_image)\n",
    "    except: \n",
    "        pass\n",
    "\n",
    "test_images = np.array(test_images, np.float32) / 255. # normalization\n",
    "test_images = np.array(test_images).reshape(-1, IMG_SIZE, IMG_SIZE, 1)\n",
    "\n",
    "print(\"Test images shape: \", test_images.shape)"
   ]
  },
  {
   "cell_type": "code",
   "execution_count": 69,
   "metadata": {},
   "outputs": [],
   "source": [
    "#predict\n",
    "predictions = tsr_model.predict(test_images)"
   ]
  },
  {
   "cell_type": "code",
   "execution_count": 83,
   "metadata": {
    "scrolled": true
   },
   "outputs": [
    {
     "name": "stdout",
     "output_type": "stream",
     "text": [
      "CLASS NO:  1\n"
     ]
    },
    {
     "data": {
      "text/plain": [
       "<function matplotlib.pyplot.show(*args, **kw)>"
      ]
     },
     "execution_count": 83,
     "metadata": {},
     "output_type": "execute_result"
    },
    {
     "data": {
      "image/png": "[encoded data removed]",
      "text/plain": [
       "<Figure size 576x576 with 2 Axes>"
      ]
     },
     "metadata": {
      "needs_background": "light"
     },
     "output_type": "display_data"
    }
   ],
   "source": [
    "# Display result\n",
    "fig=plt.figure(figsize=(8, 8))\n",
    "fig.add_subplot(1, 2, 1)\n",
    "plt.title('TEST IMAGE')\n",
    "PRED_IMG = 1\n",
    "\n",
    "plt.imshow(test_images_orig[PRED_IMG], cmap='gray')\n",
    "plt.show\n",
    "\n",
    "class_no = np.argmax(predictions[PRED_IMG])\n",
    "print(\"CLASS NO: \", class_no)\n",
    "\n",
    "fig.add_subplot(1, 2, 2)\n",
    "plt.title('DETECTED IMAGE')\n",
    "plt.imshow(class_image[class_label.tolist().index(class_no)], cmap='gray')\n",
    "plt.show"
   ]
  },
  {
   "cell_type": "code",
   "execution_count": 72,
   "metadata": {
    "scrolled": true
   },
   "outputs": [
    {
     "data": {
      "text/plain": [
       "(12630, 43)"
      ]
     },
     "execution_count": 72,
     "metadata": {},
     "output_type": "execute_result"
    }
   ],
   "source": [
    "predictions.shape"
   ]
  },
  {
   "cell_type": "code",
   "execution_count": 73,
   "metadata": {},
   "outputs": [],
   "source": [
    "import pandas as pd\n",
    "df =  pd.DataFrame(predictions)"
   ]
  },
  {
   "cell_type": "code",
   "execution_count": 74,
   "metadata": {},
   "outputs": [
    {
     "data": {
      "text/html": [
       "<div>\n",
       "<style scoped>\n",
       "    .dataframe tbody tr th:only-of-type {\n",
       "        vertical-align: middle;\n",
       "    }\n",
       "\n",
       "    .dataframe tbody tr th {\n",
       "        vertical-align: top;\n",
       "    }\n",
       "\n",
       "    .dataframe thead th {\n",
       "        text-align: right;\n",
       "    }\n",
       "</style>\n",
       "<table border=\"1\" class=\"dataframe\">\n",
       "  <thead>\n",
       "    <tr style=\"text-align: right;\">\n",
       "      <th></th>\n",
       "      <th>0</th>\n",
       "      <th>1</th>\n",
       "      <th>2</th>\n",
       "      <th>3</th>\n",
       "      <th>4</th>\n",
       "      <th>5</th>\n",
       "      <th>6</th>\n",
       "      <th>7</th>\n",
       "      <th>8</th>\n",
       "      <th>9</th>\n",
       "      <th>...</th>\n",
       "      <th>33</th>\n",
       "      <th>34</th>\n",
       "      <th>35</th>\n",
       "      <th>36</th>\n",
       "      <th>37</th>\n",
       "      <th>38</th>\n",
       "      <th>39</th>\n",
       "      <th>40</th>\n",
       "      <th>41</th>\n",
       "      <th>42</th>\n",
       "    </tr>\n",
       "  </thead>\n",
       "  <tbody>\n",
       "    <tr>\n",
       "      <th>0</th>\n",
       "      <td>3.610998e-32</td>\n",
       "      <td>2.958184e-23</td>\n",
       "      <td>8.753186e-09</td>\n",
       "      <td>1.471746e-09</td>\n",
       "      <td>1.193137e-30</td>\n",
       "      <td>2.345689e-12</td>\n",
       "      <td>1.802325e-37</td>\n",
       "      <td>1.329638e-11</td>\n",
       "      <td>1.648496e-22</td>\n",
       "      <td>5.970090e-23</td>\n",
       "      <td>...</td>\n",
       "      <td>6.239531e-32</td>\n",
       "      <td>0.000000e+00</td>\n",
       "      <td>1.607461e-36</td>\n",
       "      <td>6.335599e-29</td>\n",
       "      <td>1.976298e-22</td>\n",
       "      <td>7.989123e-27</td>\n",
       "      <td>5.557585e-24</td>\n",
       "      <td>1.122135e-18</td>\n",
       "      <td>1.839766e-37</td>\n",
       "      <td>6.033763e-23</td>\n",
       "    </tr>\n",
       "    <tr>\n",
       "      <th>1</th>\n",
       "      <td>3.394797e-08</td>\n",
       "      <td>9.999999e-01</td>\n",
       "      <td>6.276004e-10</td>\n",
       "      <td>5.697664e-20</td>\n",
       "      <td>6.667927e-21</td>\n",
       "      <td>1.264692e-08</td>\n",
       "      <td>3.501998e-08</td>\n",
       "      <td>5.901408e-25</td>\n",
       "      <td>1.851440e-21</td>\n",
       "      <td>0.000000e+00</td>\n",
       "      <td>...</td>\n",
       "      <td>0.000000e+00</td>\n",
       "      <td>0.000000e+00</td>\n",
       "      <td>0.000000e+00</td>\n",
       "      <td>4.764591e-35</td>\n",
       "      <td>0.000000e+00</td>\n",
       "      <td>5.520947e-30</td>\n",
       "      <td>0.000000e+00</td>\n",
       "      <td>1.487072e-22</td>\n",
       "      <td>4.074776e-37</td>\n",
       "      <td>1.129429e-21</td>\n",
       "    </tr>\n",
       "    <tr>\n",
       "      <th>2</th>\n",
       "      <td>6.979566e-13</td>\n",
       "      <td>2.591986e-09</td>\n",
       "      <td>5.739797e-07</td>\n",
       "      <td>9.998019e-01</td>\n",
       "      <td>5.880109e-17</td>\n",
       "      <td>1.973739e-04</td>\n",
       "      <td>6.164477e-09</td>\n",
       "      <td>2.492211e-11</td>\n",
       "      <td>2.966922e-11</td>\n",
       "      <td>9.424968e-12</td>\n",
       "      <td>...</td>\n",
       "      <td>3.140321e-23</td>\n",
       "      <td>2.427206e-17</td>\n",
       "      <td>2.643427e-16</td>\n",
       "      <td>8.883477e-11</td>\n",
       "      <td>6.060528e-21</td>\n",
       "      <td>9.477753e-08</td>\n",
       "      <td>3.769177e-19</td>\n",
       "      <td>2.740570e-11</td>\n",
       "      <td>2.872780e-13</td>\n",
       "      <td>7.873278e-12</td>\n",
       "    </tr>\n",
       "    <tr>\n",
       "      <th>3</th>\n",
       "      <td>1.652523e-32</td>\n",
       "      <td>1.537268e-24</td>\n",
       "      <td>7.191117e-12</td>\n",
       "      <td>6.406940e-11</td>\n",
       "      <td>2.041131e-31</td>\n",
       "      <td>1.780715e-15</td>\n",
       "      <td>1.509930e-30</td>\n",
       "      <td>3.798196e-22</td>\n",
       "      <td>5.111106e-23</td>\n",
       "      <td>1.855771e-24</td>\n",
       "      <td>...</td>\n",
       "      <td>2.862520e-34</td>\n",
       "      <td>5.366687e-36</td>\n",
       "      <td>3.095867e-33</td>\n",
       "      <td>7.855002e-28</td>\n",
       "      <td>4.309563e-26</td>\n",
       "      <td>2.766374e-20</td>\n",
       "      <td>1.162949e-23</td>\n",
       "      <td>3.334780e-22</td>\n",
       "      <td>2.733386e-33</td>\n",
       "      <td>2.849424e-27</td>\n",
       "    </tr>\n",
       "    <tr>\n",
       "      <th>4</th>\n",
       "      <td>4.611476e-09</td>\n",
       "      <td>4.633226e-05</td>\n",
       "      <td>9.998813e-01</td>\n",
       "      <td>3.115407e-07</td>\n",
       "      <td>1.623453e-12</td>\n",
       "      <td>7.202917e-05</td>\n",
       "      <td>1.876663e-11</td>\n",
       "      <td>6.650288e-08</td>\n",
       "      <td>1.916518e-08</td>\n",
       "      <td>1.576129e-20</td>\n",
       "      <td>...</td>\n",
       "      <td>7.044704e-33</td>\n",
       "      <td>2.114591e-25</td>\n",
       "      <td>3.083334e-28</td>\n",
       "      <td>6.608190e-21</td>\n",
       "      <td>1.393320e-18</td>\n",
       "      <td>2.990933e-13</td>\n",
       "      <td>1.584278e-21</td>\n",
       "      <td>1.342040e-12</td>\n",
       "      <td>3.544967e-23</td>\n",
       "      <td>1.877552e-14</td>\n",
       "    </tr>\n",
       "  </tbody>\n",
       "</table>\n",
       "<p>5 rows × 43 columns</p>\n",
       "</div>"
      ],
      "text/plain": [
       "             0             1             2             3             4   \\\n",
       "0  3.610998e-32  2.958184e-23  8.753186e-09  1.471746e-09  1.193137e-30   \n",
       "1  3.394797e-08  9.999999e-01  6.276004e-10  5.697664e-20  6.667927e-21   \n",
       "2  6.979566e-13  2.591986e-09  5.739797e-07  9.998019e-01  5.880109e-17   \n",
       "3  1.652523e-32  1.537268e-24  7.191117e-12  6.406940e-11  2.041131e-31   \n",
       "4  4.611476e-09  4.633226e-05  9.998813e-01  3.115407e-07  1.623453e-12   \n",
       "\n",
       "             5             6             7             8             9   \\\n",
       "0  2.345689e-12  1.802325e-37  1.329638e-11  1.648496e-22  5.970090e-23   \n",
       "1  1.264692e-08  3.501998e-08  5.901408e-25  1.851440e-21  0.000000e+00   \n",
       "2  1.973739e-04  6.164477e-09  2.492211e-11  2.966922e-11  9.424968e-12   \n",
       "3  1.780715e-15  1.509930e-30  3.798196e-22  5.111106e-23  1.855771e-24   \n",
       "4  7.202917e-05  1.876663e-11  6.650288e-08  1.916518e-08  1.576129e-20   \n",
       "\n",
       "       ...                 33            34            35            36  \\\n",
       "0      ...       6.239531e-32  0.000000e+00  1.607461e-36  6.335599e-29   \n",
       "1      ...       0.000000e+00  0.000000e+00  0.000000e+00  4.764591e-35   \n",
       "2      ...       3.140321e-23  2.427206e-17  2.643427e-16  8.883477e-11   \n",
       "3      ...       2.862520e-34  5.366687e-36  3.095867e-33  7.855002e-28   \n",
       "4      ...       7.044704e-33  2.114591e-25  3.083334e-28  6.608190e-21   \n",
       "\n",
       "             37            38            39            40            41  \\\n",
       "0  1.976298e-22  7.989123e-27  5.557585e-24  1.122135e-18  1.839766e-37   \n",
       "1  0.000000e+00  5.520947e-30  0.000000e+00  1.487072e-22  4.074776e-37   \n",
       "2  6.060528e-21  9.477753e-08  3.769177e-19  2.740570e-11  2.872780e-13   \n",
       "3  4.309563e-26  2.766374e-20  1.162949e-23  3.334780e-22  2.733386e-33   \n",
       "4  1.393320e-18  2.990933e-13  1.584278e-21  1.342040e-12  3.544967e-23   \n",
       "\n",
       "             42  \n",
       "0  6.033763e-23  \n",
       "1  1.129429e-21  \n",
       "2  7.873278e-12  \n",
       "3  2.849424e-27  \n",
       "4  1.877552e-14  \n",
       "\n",
       "[5 rows x 43 columns]"
      ]
     },
     "execution_count": 74,
     "metadata": {},
     "output_type": "execute_result"
    }
   ],
   "source": [
    "df.head()"
   ]
  },
  {
   "cell_type": "code",
   "execution_count": null,
   "metadata": {},
   "outputs": [],
   "source": []
  },
  {
   "cell_type": "code",
   "execution_count": null,
   "metadata": {},
   "outputs": [],
   "source": []
  },
  {
   "cell_type": "code",
   "execution_count": null,
   "metadata": {},
   "outputs": [],
   "source": []
  },
  {
   "cell_type": "code",
   "execution_count": null,
   "metadata": {},
   "outputs": [],
   "source": []
  }
 ],
 "metadata": {
  "kernelspec": {
   "display_name": "Python 3",
   "language": "python",
   "name": "python3"
  },
  "language_info": {
   "codemirror_mode": {
    "name": "ipython",
    "version": 3
   },
   "file_extension": ".py",
   "mimetype": "text/x-python",
   "name": "python",
   "nbconvert_exporter": "python",
   "pygments_lexer": "ipython3",
   "version": "3.6.6"
  }
 },
 "nbformat": 4,
 "nbformat_minor": 2
}
