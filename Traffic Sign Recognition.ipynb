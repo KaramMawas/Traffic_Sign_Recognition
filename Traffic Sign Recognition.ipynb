{
 "cells": [
  {
   "cell_type": "markdown",
   "metadata": {},
   "source": [
    "# Traffic Sign Recognition"
   ]
  },
  {
   "cell_type": "markdown",
   "metadata": {},
   "source": [
    "This project is using the data from the [The German Traffic Sign Recognition Benchmark](http://benchmark.ini.rub.de/?section=gtsrb&subsection=dataset)\n",
    "\n",
    "    @inproceedings{Stallkamp-IJCNN-2011,\n",
    "    author = {Johannes Stallkamp and Marc Schlipsing and Jan Salmen and Christian Igel},\n",
    "    booktitle = {IEEE International Joint Conference on Neural Networks},\n",
    "    title = {The {G}erman {T}raffic {S}ign {R}ecognition {B}enchmark: A multi-class classification competition},\n",
    "    year = {2011},\n",
    "    pages = {1453--1460}}"
   ]
  },
  {
   "cell_type": "code",
   "execution_count": 3,
   "metadata": {},
   "outputs": [
    {
     "name": "stderr",
     "output_type": "stream",
     "text": [
      "C:\\Users\\Karam\\Anaconda3\\lib\\site-packages\\sklearn\\cross_validation.py:41: DeprecationWarning: This module was deprecated in version 0.18 in favor of the model_selection module into which all the refactored classes and functions are moved. Also note that the interface of the new CV iterators are different from that of this module. This module will be removed in 0.20.\n",
      "  \"This module will be removed in 0.20.\", DeprecationWarning)\n",
      "C:\\Users\\Karam\\Anaconda3\\lib\\site-packages\\h5py\\__init__.py:34: FutureWarning: Conversion of the second argument of issubdtype from `float` to `np.floating` is deprecated. In future, it will be treated as `np.float64 == np.dtype(float).type`.\n",
      "  from ._conv import register_converters as _register_converters\n"
     ]
    }
   ],
   "source": [
    "from readTrafficSigns import *\n",
    "import cv2\n",
    "import os\n",
    "from random import shuffle\n",
    "from tqdm import tqdm\n",
    "import numpy as np\n",
    "import matplotlib.pyplot as plt\n",
    "import sklearn\n",
    "from sklearn.cross_validation import train_test_split\n",
    "import pandas as pd\n",
    "\n",
    "import tensorflow as tf\n",
    "import pickle"
   ]
  },
  {
   "cell_type": "code",
   "execution_count": 2,
   "metadata": {},
   "outputs": [],
   "source": [
    "trainImages, trainLabels = readTrafficSigns('./GTSRB/Training')"
   ]
  },
  {
   "cell_type": "code",
   "execution_count": 5,
   "metadata": {
    "scrolled": true
   },
   "outputs": [
    {
     "name": "stdout",
     "output_type": "stream",
     "text": [
      "trainLabels: 39209 trainImages: 39209\n"
     ]
    }
   ],
   "source": [
    "print ('trainLabels:',len(trainLabels), 'trainImages:',len(trainImages))"
   ]
  },
  {
   "cell_type": "markdown",
   "metadata": {},
   "source": [
    "### Convert labels to one hot array"
   ]
  },
  {
   "cell_type": "code",
   "execution_count": 50,
   "metadata": {},
   "outputs": [],
   "source": [
    "targets = pd.Series(np.array(trainLabels))\n",
    "one_hot = pd.get_dummies(targets, sparse = True)\n",
    "one_hot_labels = np.asarray(one_hot)"
   ]
  },
  {
   "cell_type": "code",
   "execution_count": 55,
   "metadata": {},
   "outputs": [
    {
     "name": "stdout",
     "output_type": "stream",
     "text": [
      "(39209, 43)\n"
     ]
    }
   ],
   "source": [
    "print(one_hot_labels.shape)"
   ]
  },
  {
   "cell_type": "code",
   "execution_count": 58,
   "metadata": {},
   "outputs": [
    {
     "data": {
      "text/plain": [
       "array([0, 1, 0, 0, 0, 0, 0, 0, 0, 0, 0, 0, 0, 0, 0, 0, 0, 0, 0, 0, 0, 0,\n",
       "       0, 0, 0, 0, 0, 0, 0, 0, 0, 0, 0, 0, 0, 0, 0, 0, 0, 0, 0, 0, 0],\n",
       "      dtype=uint8)"
      ]
     },
     "execution_count": 58,
     "metadata": {},
     "output_type": "execute_result"
    }
   ],
   "source": [
    "one_hot_labels[1000]"
   ]
  },
  {
   "cell_type": "code",
   "execution_count": 6,
   "metadata": {},
   "outputs": [
    {
     "data": {
      "text/plain": [
       "(31, 32, 3)"
      ]
     },
     "execution_count": 6,
     "metadata": {},
     "output_type": "execute_result"
    }
   ],
   "source": [
    "trainImages[3000].shape"
   ]
  },
  {
   "cell_type": "code",
   "execution_count": 7,
   "metadata": {
    "scrolled": true
   },
   "outputs": [
    {
     "data": {
      "image/png": "[encoded data removed]",
      "text/plain": [
       "<matplotlib.figure.Figure at 0x16846325da0>"
      ]
     },
     "metadata": {},
     "output_type": "display_data"
    }
   ],
   "source": [
    "plt.imshow(trainImages[50])\n",
    "plt.show()"
   ]
  },
  {
   "cell_type": "code",
   "execution_count": 25,
   "metadata": {},
   "outputs": [],
   "source": [
    "IMG_SIZE = 30 # image_size\n",
    "LR= 1e-3 #learning rate\n",
    "MODEL_NAME = 'Traffic_Signs-{}-{}.model'.format(LR,'2conv-basic')"
   ]
  },
  {
   "cell_type": "code",
   "execution_count": 62,
   "metadata": {},
   "outputs": [],
   "source": [
    "def shuffle_resize_data():\n",
    "    x_feature = []\n",
    "    y_feature = []\n",
    "    data = []\n",
    "    i = 0\n",
    "    for img in tqdm(range(len(trainImages))):\n",
    "        label = one_hot_labels[i]\n",
    "        gray = cv2.cvtColor(trainImages[img], cv2.COLOR_BGR2GRAY)\n",
    "        gray_resized = cv2.resize(gray, (IMG_SIZE,IMG_SIZE) ,interpolation = cv2.INTER_CUBIC)\n",
    "        data.append([np.array(gray_resized), np.array(label)])\n",
    "        i +=1\n",
    "    shuffle(data)\n",
    "    np.save('data.npy',data)\n",
    "    x_feature , y_feature = zip(*data) \n",
    "    return x_feature , y_feature"
   ]
  },
  {
   "cell_type": "code",
   "execution_count": 63,
   "metadata": {},
   "outputs": [
    {
     "name": "stderr",
     "output_type": "stream",
     "text": [
      "100%|█████████████████████████████████████████████████████████████████████████| 39209/39209 [00:02<00:00, 14923.50it/s]\n"
     ]
    }
   ],
   "source": [
    "x_feature , y_feature = shuffle_resize_data()"
   ]
  },
  {
   "cell_type": "code",
   "execution_count": 64,
   "metadata": {},
   "outputs": [],
   "source": [
    "#train_data = np.Load('train_data.npy')"
   ]
  },
  {
   "cell_type": "code",
   "execution_count": 65,
   "metadata": {},
   "outputs": [
    {
     "name": "stdout",
     "output_type": "stream",
     "text": [
      "trainLabels: 39209 trainImages: 39209\n"
     ]
    }
   ],
   "source": [
    "print ('trainLabels:',len(y_feature), 'trainImages:',len(x_feature))"
   ]
  },
  {
   "cell_type": "code",
   "execution_count": 66,
   "metadata": {
    "scrolled": true
   },
   "outputs": [
    {
     "data": {
      "text/plain": [
       "(30, 30)"
      ]
     },
     "execution_count": 66,
     "metadata": {},
     "output_type": "execute_result"
    }
   ],
   "source": [
    "x_feature[100].shape"
   ]
  },
  {
   "cell_type": "code",
   "execution_count": 70,
   "metadata": {},
   "outputs": [
    {
     "data": {
      "text/plain": [
       "(43,)"
      ]
     },
     "execution_count": 70,
     "metadata": {},
     "output_type": "execute_result"
    }
   ],
   "source": [
    "y_feature[100].shape"
   ]
  },
  {
   "cell_type": "markdown",
   "metadata": {},
   "source": [
    "### Normalize the data"
   ]
  },
  {
   "cell_type": "markdown",
   "metadata": {},
   "source": [
    "We need to normalize inputs like this: $$x_{norm} = \\frac{x}{255} - 0.5$$"
   ]
  },
  {
   "cell_type": "markdown",
   "metadata": {},
   "source": [
    "The data frames need to be the form of arrays and normolised. Becuase I'm dealing with grayscale here, I needed to add the dimension at the end of the array else it keras would raise an exception"
   ]
  },
  {
   "cell_type": "code",
   "execution_count": 71,
   "metadata": {},
   "outputs": [],
   "source": [
    "# normalize the images\n",
    "#x_train = tf.keras.utils.normalize(x_train)\n",
    "#x_test = tf.keras.utils.normalize(x_test)"
   ]
  },
  {
   "cell_type": "code",
   "execution_count": 72,
   "metadata": {
    "scrolled": true
   },
   "outputs": [
    {
     "name": "stdout",
     "output_type": "stream",
     "text": [
      "(39209, 30, 30)\n",
      "(39209, 30, 30, 1)\n"
     ]
    }
   ],
   "source": [
    "x_train_data = (np.array(x_feature, np.float32) / 255.)\n",
    "print (x_train_data.shape)\n",
    "x_train_data = np.expand_dims(x_train_data, axis = 3)\n",
    "print (x_train_data.shape)"
   ]
  },
  {
   "cell_type": "code",
   "execution_count": 73,
   "metadata": {},
   "outputs": [
    {
     "name": "stdout",
     "output_type": "stream",
     "text": [
      "(39209, 43)\n"
     ]
    }
   ],
   "source": [
    "y_train_data = np.array(y_feature, np.uint8)\n",
    "print (y_train_data.shape)"
   ]
  },
  {
   "cell_type": "code",
   "execution_count": 74,
   "metadata": {
    "scrolled": false
   },
   "outputs": [
    {
     "data": {
      "image/png": "[encoded data removed]",
      "text/plain": [
       "<matplotlib.figure.Figure at 0x16859eced68>"
      ]
     },
     "metadata": {},
     "output_type": "display_data"
    }
   ],
   "source": [
    "plt.imshow(x_feature[100], cmap=plt.cm.binary)\n",
    "plt.show()"
   ]
  },
  {
   "cell_type": "markdown",
   "metadata": {},
   "source": [
    "### Split data to train and test\n",
    "give 10% for test data from the total data"
   ]
  },
  {
   "cell_type": "code",
   "execution_count": 75,
   "metadata": {},
   "outputs": [
    {
     "name": "stdout",
     "output_type": "stream",
     "text": [
      "(35288, 30, 30, 1)\n",
      "(3921, 30, 30, 1)\n",
      "(35288, 43)\n",
      "(3921, 43)\n"
     ]
    }
   ],
   "source": [
    "x_train, x_val, y_train, y_val = train_test_split(x_train_data, y_train_data, test_size=0.1, random_state=2)\n",
    "print (x_train.shape)\n",
    "print (x_val.shape)\n",
    "print (y_train.shape)\n",
    "print (y_val.shape)"
   ]
  },
  {
   "cell_type": "markdown",
   "metadata": {},
   "source": [
    "# Building the Model"
   ]
  },
  {
   "cell_type": "code",
   "execution_count": 76,
   "metadata": {},
   "outputs": [],
   "source": [
    "from keras.models import Sequential  # initial NN\n",
    "from keras.layers import Dense, Dropout # construct each layer\n",
    "from keras.layers import Convolution2D # swipe across the image by 1\n",
    "from keras.layers import MaxPooling2D # swipe across by pool size\n",
    "from keras.layers import Flatten"
   ]
  },
  {
   "cell_type": "markdown",
   "metadata": {},
   "source": [
    "\n",
    "1. Convetional layer (detect features in image matrix)\n",
    "2. Pooling layer (recongise features in different angle and/or size)\n",
    "3. Convetional layer\n",
    "4. Pooling laye\n",
    "5. Flattening layer (flatten layers in array of imput)\n",
    "6. Full connected layer (full connected ANN)\n",
    "7. Output layer\n"
   ]
  },
  {
   "cell_type": "code",
   "execution_count": 77,
   "metadata": {},
   "outputs": [],
   "source": [
    "model = Sequential()\n",
    "\n",
    "model.add(Convolution2D (filters = 64, kernel_size = (4,4),padding = 'Same', \n",
    "                         activation ='relu', input_shape = x_train.shape[1:])) \n",
    "model.add(MaxPooling2D(pool_size=(2,2)))\n",
    "model.add(Convolution2D (filters = 64, kernel_size = (4,4),padding = 'Same', \n",
    "                         activation ='relu')) \n",
    "model.add(MaxPooling2D(pool_size=(2,2)))\n",
    "\n",
    "model.add(Flatten()) \n",
    "# fully connected NN \n",
    "model.add(Dense(units = 43, activation = 'relu')) \n",
    "# output layer\n",
    "model.add(Dense(units = 43, activation = 'softmax'))\n",
    "\n",
    "model.compile(optimizer = 'adam' , loss = \"categorical_crossentropy\", metrics=[\"accuracy\"])\n"
   ]
  },
  {
   "cell_type": "code",
   "execution_count": 78,
   "metadata": {},
   "outputs": [
    {
     "name": "stdout",
     "output_type": "stream",
     "text": [
      "_________________________________________________________________\n",
      "Layer (type)                 Output Shape              Param #   \n",
      "=================================================================\n",
      "conv2d_3 (Conv2D)            (None, 30, 30, 64)        1088      \n",
      "_________________________________________________________________\n",
      "max_pooling2d_3 (MaxPooling2 (None, 15, 15, 64)        0         \n",
      "_________________________________________________________________\n",
      "conv2d_4 (Conv2D)            (None, 15, 15, 64)        65600     \n",
      "_________________________________________________________________\n",
      "max_pooling2d_4 (MaxPooling2 (None, 7, 7, 64)          0         \n",
      "_________________________________________________________________\n",
      "flatten_2 (Flatten)          (None, 3136)              0         \n",
      "_________________________________________________________________\n",
      "dense_3 (Dense)              (None, 43)                134891    \n",
      "_________________________________________________________________\n",
      "dense_4 (Dense)              (None, 43)                1892      \n",
      "=================================================================\n",
      "Total params: 203,471\n",
      "Trainable params: 203,471\n",
      "Non-trainable params: 0\n",
      "_________________________________________________________________\n"
     ]
    }
   ],
   "source": [
    "model.summary()"
   ]
  },
  {
   "cell_type": "markdown",
   "metadata": {},
   "source": [
    "### Fit the model into data"
   ]
  },
  {
   "cell_type": "code",
   "execution_count": 79,
   "metadata": {},
   "outputs": [
    {
     "name": "stdout",
     "output_type": "stream",
     "text": [
      "Train on 35288 samples, validate on 3921 samples\n",
      "Epoch 1/10\n",
      "28s - loss: 1.7893 - acc: 0.5353 - val_loss: 0.5532 - val_acc: 0.8531\n",
      "Epoch 2/10\n",
      "17s - loss: 0.3659 - acc: 0.9070 - val_loss: 0.2427 - val_acc: 0.9324\n",
      "Epoch 3/10\n",
      "17s - loss: 0.1809 - acc: 0.9549 - val_loss: 0.1688 - val_acc: 0.9630\n",
      "Epoch 4/10\n",
      "17s - loss: 0.1111 - acc: 0.9734 - val_loss: 0.1133 - val_acc: 0.9753\n",
      "Epoch 5/10\n",
      "17s - loss: 0.0792 - acc: 0.9808 - val_loss: 0.0990 - val_acc: 0.9765\n",
      "Epoch 6/10\n",
      "17s - loss: 0.0588 - acc: 0.9862 - val_loss: 0.0775 - val_acc: 0.9814\n",
      "Epoch 7/10\n",
      "17s - loss: 0.0473 - acc: 0.9880 - val_loss: 0.0824 - val_acc: 0.9776\n",
      "Epoch 8/10\n",
      "17s - loss: 0.0355 - acc: 0.9916 - val_loss: 0.0736 - val_acc: 0.9847\n",
      "Epoch 9/10\n",
      "17s - loss: 0.0312 - acc: 0.9928 - val_loss: 0.1106 - val_acc: 0.9732\n",
      "Epoch 10/10\n",
      "17s - loss: 0.0281 - acc: 0.9934 - val_loss: 0.0612 - val_acc: 0.9893\n"
     ]
    }
   ],
   "source": [
    "batch_size = 64 \n",
    "nb_epochs = 10\n",
    "history = model.fit(x_train, y_train,\n",
    "                    batch_size=batch_size,\n",
    "                    epochs=nb_epochs,\n",
    "                    verbose=2, \n",
    "                    validation_data=(x_val, y_val),\n",
    "                    initial_epoch=0)"
   ]
  },
  {
   "cell_type": "code",
   "execution_count": 80,
   "metadata": {},
   "outputs": [],
   "source": [
    "#val_loss, val_acc = model.evaluate(x_test,y_test)"
   ]
  },
  {
   "cell_type": "code",
   "execution_count": 82,
   "metadata": {},
   "outputs": [],
   "source": [
    "model.save('10epoch_10val_NoMean_2conv') # model_1 = tf.keras.models.load_model('10epoch_10val_NoMean_2conv')"
   ]
  },
  {
   "cell_type": "code",
   "execution_count": null,
   "metadata": {},
   "outputs": [],
   "source": [
    "#predictions = new_model.predict([x_test])"
   ]
  },
  {
   "cell_type": "code",
   "execution_count": 38,
   "metadata": {},
   "outputs": [],
   "source": [
    "def load_test_images(dir_name = './GTSRB/Final_Test/Images'):    \n",
    "    image_list = []\n",
    "    files = [os.path.join(dir_name, f) for f in os.listdir(dir_name)]\n",
    "    for f in files:\n",
    "        img = cv2.imread(f,0)\n",
    "        image_list.append(np.array(img))\n",
    "    return image_list"
   ]
  },
  {
   "cell_type": "code",
   "execution_count": 39,
   "metadata": {},
   "outputs": [],
   "source": [
    "test_images = load_test_images()"
   ]
  },
  {
   "cell_type": "code",
   "execution_count": 42,
   "metadata": {},
   "outputs": [
    {
     "name": "stderr",
     "output_type": "stream",
     "text": [
      "100%|█████████████████████████████████████████████████████████████████████████| 12631/12631 [00:00<00:00, 82193.53it/s]\n"
     ]
    }
   ],
   "source": [
    "x_test = []\n",
    "for img in tqdm(range(len(test_images))):\n",
    "    resized = cv2.resize(img, (IMG_SIZE,IMG_SIZE) ,interpolation = cv2.INTER_CUBIC)\n",
    "    x_test.append(np.array(resized))"
   ]
  },
  {
   "cell_type": "code",
   "execution_count": 44,
   "metadata": {},
   "outputs": [],
   "source": [
    "x_test = np.array(x_test)"
   ]
  },
  {
   "cell_type": "code",
   "execution_count": 46,
   "metadata": {},
   "outputs": [
    {
     "data": {
      "text/plain": [
       "(12631, 30, 30)"
      ]
     },
     "execution_count": 46,
     "metadata": {},
     "output_type": "execute_result"
    }
   ],
   "source": [
    "x_test.shape"
   ]
  },
  {
   "cell_type": "code",
   "execution_count": 47,
   "metadata": {},
   "outputs": [],
   "source": [
    "x_test = np.expand_dims(x_test, axis = 3)"
   ]
  },
  {
   "cell_type": "code",
   "execution_count": 48,
   "metadata": {},
   "outputs": [
    {
     "data": {
      "text/plain": [
       "(12631, 30, 30, 1)"
      ]
     },
     "execution_count": 48,
     "metadata": {},
     "output_type": "execute_result"
    }
   ],
   "source": [
    "x_test.shape"
   ]
  },
  {
   "cell_type": "code",
   "execution_count": 49,
   "metadata": {},
   "outputs": [
    {
     "data": {
      "text/plain": [
       "12631"
      ]
     },
     "execution_count": 49,
     "metadata": {},
     "output_type": "execute_result"
    }
   ],
   "source": [
    "len(test_images)"
   ]
  },
  {
   "cell_type": "code",
   "execution_count": 50,
   "metadata": {
    "scrolled": true
   },
   "outputs": [
    {
     "data": {
      "image/png": "[encoded data removed]",
      "text/plain": [
       "<matplotlib.figure.Figure at 0x1fec07d6a90>"
      ]
     },
     "metadata": {},
     "output_type": "display_data"
    }
   ],
   "source": [
    "plt.imshow(test_images[0])\n",
    "plt.show()"
   ]
  },
  {
   "cell_type": "code",
   "execution_count": 52,
   "metadata": {},
   "outputs": [
    {
     "name": "stdout",
     "output_type": "stream",
     "text": [
      "WARNING:tensorflow:From C:\\Users\\Karam\\Anaconda3\\lib\\site-packages\\tensorflow\\python\\keras\\_impl\\keras\\backend.py:3086: calling reduce_sum (from tensorflow.python.ops.math_ops) with keep_dims is deprecated and will be removed in a future version.\n",
      "Instructions for updating:\n",
      "keep_dims is deprecated, use keepdims instead\n",
      "WARNING:tensorflow:From C:\\Users\\Karam\\Anaconda3\\lib\\site-packages\\tensorflow\\python\\keras\\_impl\\keras\\backend.py:1557: calling reduce_mean (from tensorflow.python.ops.math_ops) with keep_dims is deprecated and will be removed in a future version.\n",
      "Instructions for updating:\n",
      "keep_dims is deprecated, use keepdims instead\n"
     ]
    }
   ],
   "source": [
    "model = tf.keras.models.load_model('10epoch_10val_NoMean_2conv')"
   ]
  },
  {
   "cell_type": "code",
   "execution_count": 55,
   "metadata": {},
   "outputs": [],
   "source": [
    "predictions = model.predict([x_test])"
   ]
  },
  {
   "cell_type": "code",
   "execution_count": 58,
   "metadata": {
    "scrolled": true
   },
   "outputs": [
    {
     "data": {
      "text/plain": [
       "(12631, 43)"
      ]
     },
     "execution_count": 58,
     "metadata": {},
     "output_type": "execute_result"
    }
   ],
   "source": [
    "predictions.shape"
   ]
  },
  {
   "cell_type": "code",
   "execution_count": 63,
   "metadata": {},
   "outputs": [],
   "source": [
    "import pandas as pd\n",
    "df =  pd.DataFrame(predictions)"
   ]
  },
  {
   "cell_type": "code",
   "execution_count": 64,
   "metadata": {},
   "outputs": [
    {
     "data": {
      "text/html": [
       "<div>\n",
       "<style scoped>\n",
       "    .dataframe tbody tr th:only-of-type {\n",
       "        vertical-align: middle;\n",
       "    }\n",
       "\n",
       "    .dataframe tbody tr th {\n",
       "        vertical-align: top;\n",
       "    }\n",
       "\n",
       "    .dataframe thead th {\n",
       "        text-align: right;\n",
       "    }\n",
       "</style>\n",
       "<table border=\"1\" class=\"dataframe\">\n",
       "  <thead>\n",
       "    <tr style=\"text-align: right;\">\n",
       "      <th></th>\n",
       "      <th>0</th>\n",
       "      <th>1</th>\n",
       "      <th>2</th>\n",
       "      <th>3</th>\n",
       "      <th>4</th>\n",
       "      <th>5</th>\n",
       "      <th>6</th>\n",
       "      <th>7</th>\n",
       "      <th>8</th>\n",
       "      <th>9</th>\n",
       "      <th>...</th>\n",
       "      <th>33</th>\n",
       "      <th>34</th>\n",
       "      <th>35</th>\n",
       "      <th>36</th>\n",
       "      <th>37</th>\n",
       "      <th>38</th>\n",
       "      <th>39</th>\n",
       "      <th>40</th>\n",
       "      <th>41</th>\n",
       "      <th>42</th>\n",
       "    </tr>\n",
       "  </thead>\n",
       "  <tbody>\n",
       "    <tr>\n",
       "      <th>0</th>\n",
       "      <td>9.509814e-07</td>\n",
       "      <td>6.978897e-02</td>\n",
       "      <td>0.050416</td>\n",
       "      <td>8.909326e-03</td>\n",
       "      <td>6.518856e-02</td>\n",
       "      <td>5.690790e-03</td>\n",
       "      <td>2.145562e-03</td>\n",
       "      <td>4.121341e-04</td>\n",
       "      <td>0.000008</td>\n",
       "      <td>1.167889e-02</td>\n",
       "      <td>...</td>\n",
       "      <td>1.466782e-04</td>\n",
       "      <td>1.133511e-01</td>\n",
       "      <td>6.739925e-05</td>\n",
       "      <td>7.694826e-04</td>\n",
       "      <td>0.000536</td>\n",
       "      <td>8.856104e-02</td>\n",
       "      <td>2.727697e-04</td>\n",
       "      <td>0.034596</td>\n",
       "      <td>2.930505e-03</td>\n",
       "      <td>1.543832e-02</td>\n",
       "    </tr>\n",
       "    <tr>\n",
       "      <th>1</th>\n",
       "      <td>1.207491e-13</td>\n",
       "      <td>4.205658e-07</td>\n",
       "      <td>0.017472</td>\n",
       "      <td>1.844568e-04</td>\n",
       "      <td>2.769020e-05</td>\n",
       "      <td>2.615598e-12</td>\n",
       "      <td>2.264055e-09</td>\n",
       "      <td>3.643469e-12</td>\n",
       "      <td>0.003052</td>\n",
       "      <td>5.291403e-10</td>\n",
       "      <td>...</td>\n",
       "      <td>3.098374e-10</td>\n",
       "      <td>9.827867e-05</td>\n",
       "      <td>5.119323e-05</td>\n",
       "      <td>1.763061e-05</td>\n",
       "      <td>0.187079</td>\n",
       "      <td>9.096268e-04</td>\n",
       "      <td>5.076633e-06</td>\n",
       "      <td>0.790435</td>\n",
       "      <td>1.876460e-04</td>\n",
       "      <td>7.230181e-06</td>\n",
       "    </tr>\n",
       "    <tr>\n",
       "      <th>2</th>\n",
       "      <td>9.041061e-20</td>\n",
       "      <td>4.282150e-11</td>\n",
       "      <td>0.002575</td>\n",
       "      <td>7.058662e-06</td>\n",
       "      <td>4.002463e-08</td>\n",
       "      <td>1.743462e-18</td>\n",
       "      <td>7.609523e-15</td>\n",
       "      <td>2.173916e-18</td>\n",
       "      <td>0.000837</td>\n",
       "      <td>3.069580e-15</td>\n",
       "      <td>...</td>\n",
       "      <td>1.263353e-14</td>\n",
       "      <td>1.381008e-07</td>\n",
       "      <td>2.550380e-06</td>\n",
       "      <td>2.283242e-08</td>\n",
       "      <td>0.113236</td>\n",
       "      <td>1.736004e-05</td>\n",
       "      <td>8.783495e-09</td>\n",
       "      <td>0.883255</td>\n",
       "      <td>4.940841e-06</td>\n",
       "      <td>1.541733e-08</td>\n",
       "    </tr>\n",
       "    <tr>\n",
       "      <th>3</th>\n",
       "      <td>1.243133e-25</td>\n",
       "      <td>5.436948e-15</td>\n",
       "      <td>0.000384</td>\n",
       "      <td>2.891450e-07</td>\n",
       "      <td>2.089139e-10</td>\n",
       "      <td>9.738462e-25</td>\n",
       "      <td>5.267828e-20</td>\n",
       "      <td>1.775937e-24</td>\n",
       "      <td>0.000464</td>\n",
       "      <td>5.173275e-20</td>\n",
       "      <td>...</td>\n",
       "      <td>1.115153e-18</td>\n",
       "      <td>2.359033e-10</td>\n",
       "      <td>3.666694e-07</td>\n",
       "      <td>6.146750e-11</td>\n",
       "      <td>0.108436</td>\n",
       "      <td>3.533069e-07</td>\n",
       "      <td>1.955121e-11</td>\n",
       "      <td>0.890708</td>\n",
       "      <td>1.394794e-07</td>\n",
       "      <td>6.967824e-11</td>\n",
       "    </tr>\n",
       "    <tr>\n",
       "      <th>4</th>\n",
       "      <td>1.047911e-31</td>\n",
       "      <td>5.627299e-19</td>\n",
       "      <td>0.000058</td>\n",
       "      <td>1.050858e-08</td>\n",
       "      <td>8.574857e-13</td>\n",
       "      <td>4.067695e-31</td>\n",
       "      <td>2.758277e-25</td>\n",
       "      <td>1.102177e-30</td>\n",
       "      <td>0.000208</td>\n",
       "      <td>5.536299e-25</td>\n",
       "      <td>...</td>\n",
       "      <td>6.160970e-23</td>\n",
       "      <td>3.292178e-13</td>\n",
       "      <td>3.522662e-08</td>\n",
       "      <td>1.303535e-13</td>\n",
       "      <td>0.097765</td>\n",
       "      <td>7.494289e-09</td>\n",
       "      <td>4.146955e-14</td>\n",
       "      <td>0.901969</td>\n",
       "      <td>3.093860e-09</td>\n",
       "      <td>2.435082e-13</td>\n",
       "    </tr>\n",
       "  </tbody>\n",
       "</table>\n",
       "<p>5 rows × 43 columns</p>\n",
       "</div>"
      ],
      "text/plain": [
       "             0             1         2             3             4   \\\n",
       "0  9.509814e-07  6.978897e-02  0.050416  8.909326e-03  6.518856e-02   \n",
       "1  1.207491e-13  4.205658e-07  0.017472  1.844568e-04  2.769020e-05   \n",
       "2  9.041061e-20  4.282150e-11  0.002575  7.058662e-06  4.002463e-08   \n",
       "3  1.243133e-25  5.436948e-15  0.000384  2.891450e-07  2.089139e-10   \n",
       "4  1.047911e-31  5.627299e-19  0.000058  1.050858e-08  8.574857e-13   \n",
       "\n",
       "             5             6             7         8             9   \\\n",
       "0  5.690790e-03  2.145562e-03  4.121341e-04  0.000008  1.167889e-02   \n",
       "1  2.615598e-12  2.264055e-09  3.643469e-12  0.003052  5.291403e-10   \n",
       "2  1.743462e-18  7.609523e-15  2.173916e-18  0.000837  3.069580e-15   \n",
       "3  9.738462e-25  5.267828e-20  1.775937e-24  0.000464  5.173275e-20   \n",
       "4  4.067695e-31  2.758277e-25  1.102177e-30  0.000208  5.536299e-25   \n",
       "\n",
       "       ...                 33            34            35            36  \\\n",
       "0      ...       1.466782e-04  1.133511e-01  6.739925e-05  7.694826e-04   \n",
       "1      ...       3.098374e-10  9.827867e-05  5.119323e-05  1.763061e-05   \n",
       "2      ...       1.263353e-14  1.381008e-07  2.550380e-06  2.283242e-08   \n",
       "3      ...       1.115153e-18  2.359033e-10  3.666694e-07  6.146750e-11   \n",
       "4      ...       6.160970e-23  3.292178e-13  3.522662e-08  1.303535e-13   \n",
       "\n",
       "         37            38            39        40            41            42  \n",
       "0  0.000536  8.856104e-02  2.727697e-04  0.034596  2.930505e-03  1.543832e-02  \n",
       "1  0.187079  9.096268e-04  5.076633e-06  0.790435  1.876460e-04  7.230181e-06  \n",
       "2  0.113236  1.736004e-05  8.783495e-09  0.883255  4.940841e-06  1.541733e-08  \n",
       "3  0.108436  3.533069e-07  1.955121e-11  0.890708  1.394794e-07  6.967824e-11  \n",
       "4  0.097765  7.494289e-09  4.146955e-14  0.901969  3.093860e-09  2.435082e-13  \n",
       "\n",
       "[5 rows x 43 columns]"
      ]
     },
     "execution_count": 64,
     "metadata": {},
     "output_type": "execute_result"
    }
   ],
   "source": [
    "df.head()"
   ]
  },
  {
   "cell_type": "code",
   "execution_count": null,
   "metadata": {},
   "outputs": [],
   "source": []
  },
  {
   "cell_type": "code",
   "execution_count": null,
   "metadata": {},
   "outputs": [],
   "source": []
  },
  {
   "cell_type": "code",
   "execution_count": null,
   "metadata": {},
   "outputs": [],
   "source": []
  },
  {
   "cell_type": "code",
   "execution_count": null,
   "metadata": {},
   "outputs": [],
   "source": []
  },
  {
   "cell_type": "code",
   "execution_count": null,
   "metadata": {},
   "outputs": [],
   "source": []
  }
 ],
 "metadata": {
  "kernelspec": {
   "display_name": "Python 3",
   "language": "python",
   "name": "python3"
  },
  "language_info": {
   "codemirror_mode": {
    "name": "ipython",
    "version": 3
   },
   "file_extension": ".py",
   "mimetype": "text/x-python",
   "name": "python",
   "nbconvert_exporter": "python",
   "pygments_lexer": "ipython3",
   "version": "3.6.4"
  }
 },
 "nbformat": 4,
 "nbformat_minor": 2
}
